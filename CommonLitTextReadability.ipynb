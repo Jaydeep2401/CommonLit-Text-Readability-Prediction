{
 "cells": [
  {
   "cell_type": "code",
   "execution_count": 1,
   "id": "61d0ce7e",
   "metadata": {
    "execution": {
     "iopub.execute_input": "2021-08-02T13:46:38.910384Z",
     "iopub.status.busy": "2021-08-02T13:46:38.908907Z",
     "iopub.status.idle": "2021-08-02T13:46:38.918407Z",
     "shell.execute_reply": "2021-08-02T13:46:38.918835Z",
     "shell.execute_reply.started": "2021-08-02T12:48:10.029476Z"
    },
    "papermill": {
     "duration": 0.041066,
     "end_time": "2021-08-02T13:46:38.919053",
     "exception": false,
     "start_time": "2021-08-02T13:46:38.877987",
     "status": "completed"
    },
    "tags": []
   },
   "outputs": [],
   "source": [
    "import pandas as pd\n",
    "import numpy as np"
   ]
  },
  {
   "cell_type": "code",
   "execution_count": 2,
   "id": "6921dae1",
   "metadata": {
    "execution": {
     "iopub.execute_input": "2021-08-02T13:46:38.972642Z",
     "iopub.status.busy": "2021-08-02T13:46:38.972116Z",
     "iopub.status.idle": "2021-08-02T13:46:42.947252Z",
     "shell.execute_reply": "2021-08-02T13:46:42.946396Z",
     "shell.execute_reply.started": "2021-08-02T12:48:10.045652Z"
    },
    "papermill": {
     "duration": 4.003644,
     "end_time": "2021-08-02T13:46:42.947388",
     "exception": false,
     "start_time": "2021-08-02T13:46:38.943744",
     "status": "completed"
    },
    "tags": []
   },
   "outputs": [],
   "source": [
    "import tensorflow as tf"
   ]
  },
  {
   "cell_type": "code",
   "execution_count": 3,
   "id": "14878a98",
   "metadata": {
    "execution": {
     "iopub.execute_input": "2021-08-02T13:46:43.003526Z",
     "iopub.status.busy": "2021-08-02T13:46:43.002810Z",
     "iopub.status.idle": "2021-08-02T13:46:43.121591Z",
     "shell.execute_reply": "2021-08-02T13:46:43.121082Z",
     "shell.execute_reply.started": "2021-08-02T12:48:15.534512Z"
    },
    "papermill": {
     "duration": 0.149381,
     "end_time": "2021-08-02T13:46:43.121739",
     "exception": false,
     "start_time": "2021-08-02T13:46:42.972358",
     "status": "completed"
    },
    "tags": []
   },
   "outputs": [],
   "source": [
    "df = pd.read_csv('../input/commonlitreadabilityprize/train.csv')"
   ]
  },
  {
   "cell_type": "code",
   "execution_count": 4,
   "id": "52189dd0",
   "metadata": {
    "execution": {
     "iopub.execute_input": "2021-08-02T13:46:43.180585Z",
     "iopub.status.busy": "2021-08-02T13:46:43.179972Z",
     "iopub.status.idle": "2021-08-02T13:46:43.197343Z",
     "shell.execute_reply": "2021-08-02T13:46:43.197762Z",
     "shell.execute_reply.started": "2021-08-02T12:48:15.620200Z"
    },
    "papermill": {
     "duration": 0.051272,
     "end_time": "2021-08-02T13:46:43.197898",
     "exception": false,
     "start_time": "2021-08-02T13:46:43.146626",
     "status": "completed"
    },
    "tags": []
   },
   "outputs": [
    {
     "data": {
      "text/html": [
       "<div>\n",
       "<style scoped>\n",
       "    .dataframe tbody tr th:only-of-type {\n",
       "        vertical-align: middle;\n",
       "    }\n",
       "\n",
       "    .dataframe tbody tr th {\n",
       "        vertical-align: top;\n",
       "    }\n",
       "\n",
       "    .dataframe thead th {\n",
       "        text-align: right;\n",
       "    }\n",
       "</style>\n",
       "<table border=\"1\" class=\"dataframe\">\n",
       "  <thead>\n",
       "    <tr style=\"text-align: right;\">\n",
       "      <th></th>\n",
       "      <th>id</th>\n",
       "      <th>url_legal</th>\n",
       "      <th>license</th>\n",
       "      <th>excerpt</th>\n",
       "      <th>target</th>\n",
       "      <th>standard_error</th>\n",
       "    </tr>\n",
       "  </thead>\n",
       "  <tbody>\n",
       "    <tr>\n",
       "      <th>0</th>\n",
       "      <td>c12129c31</td>\n",
       "      <td>NaN</td>\n",
       "      <td>NaN</td>\n",
       "      <td>When the young people returned to the ballroom...</td>\n",
       "      <td>-0.340259</td>\n",
       "      <td>0.464009</td>\n",
       "    </tr>\n",
       "    <tr>\n",
       "      <th>1</th>\n",
       "      <td>85aa80a4c</td>\n",
       "      <td>NaN</td>\n",
       "      <td>NaN</td>\n",
       "      <td>All through dinner time, Mrs. Fayre was somewh...</td>\n",
       "      <td>-0.315372</td>\n",
       "      <td>0.480805</td>\n",
       "    </tr>\n",
       "    <tr>\n",
       "      <th>2</th>\n",
       "      <td>b69ac6792</td>\n",
       "      <td>NaN</td>\n",
       "      <td>NaN</td>\n",
       "      <td>As Roger had predicted, the snow departed as q...</td>\n",
       "      <td>-0.580118</td>\n",
       "      <td>0.476676</td>\n",
       "    </tr>\n",
       "    <tr>\n",
       "      <th>3</th>\n",
       "      <td>dd1000b26</td>\n",
       "      <td>NaN</td>\n",
       "      <td>NaN</td>\n",
       "      <td>And outside before the palace a great garden w...</td>\n",
       "      <td>-1.054013</td>\n",
       "      <td>0.450007</td>\n",
       "    </tr>\n",
       "    <tr>\n",
       "      <th>4</th>\n",
       "      <td>37c1b32fb</td>\n",
       "      <td>NaN</td>\n",
       "      <td>NaN</td>\n",
       "      <td>Once upon a time there were Three Bears who li...</td>\n",
       "      <td>0.247197</td>\n",
       "      <td>0.510845</td>\n",
       "    </tr>\n",
       "  </tbody>\n",
       "</table>\n",
       "</div>"
      ],
      "text/plain": [
       "          id url_legal license  \\\n",
       "0  c12129c31       NaN     NaN   \n",
       "1  85aa80a4c       NaN     NaN   \n",
       "2  b69ac6792       NaN     NaN   \n",
       "3  dd1000b26       NaN     NaN   \n",
       "4  37c1b32fb       NaN     NaN   \n",
       "\n",
       "                                             excerpt    target  standard_error  \n",
       "0  When the young people returned to the ballroom... -0.340259        0.464009  \n",
       "1  All through dinner time, Mrs. Fayre was somewh... -0.315372        0.480805  \n",
       "2  As Roger had predicted, the snow departed as q... -0.580118        0.476676  \n",
       "3  And outside before the palace a great garden w... -1.054013        0.450007  \n",
       "4  Once upon a time there were Three Bears who li...  0.247197        0.510845  "
      ]
     },
     "execution_count": 4,
     "metadata": {},
     "output_type": "execute_result"
    }
   ],
   "source": [
    "df.head()"
   ]
  },
  {
   "cell_type": "code",
   "execution_count": 5,
   "id": "d7b516e1",
   "metadata": {
    "execution": {
     "iopub.execute_input": "2021-08-02T13:46:43.256915Z",
     "iopub.status.busy": "2021-08-02T13:46:43.256367Z",
     "iopub.status.idle": "2021-08-02T13:46:43.260123Z",
     "shell.execute_reply": "2021-08-02T13:46:43.259728Z",
     "shell.execute_reply.started": "2021-08-02T12:48:15.654064Z"
    },
    "papermill": {
     "duration": 0.034848,
     "end_time": "2021-08-02T13:46:43.260231",
     "exception": false,
     "start_time": "2021-08-02T13:46:43.225383",
     "status": "completed"
    },
    "tags": []
   },
   "outputs": [],
   "source": [
    "df = df.drop(columns=['id', 'url_legal', 'license', 'standard_error'])"
   ]
  },
  {
   "cell_type": "code",
   "execution_count": 6,
   "id": "09d4c965",
   "metadata": {
    "execution": {
     "iopub.execute_input": "2021-08-02T13:46:43.317496Z",
     "iopub.status.busy": "2021-08-02T13:46:43.316976Z",
     "iopub.status.idle": "2021-08-02T13:46:43.321344Z",
     "shell.execute_reply": "2021-08-02T13:46:43.321803Z",
     "shell.execute_reply.started": "2021-08-02T12:48:15.665540Z"
    },
    "papermill": {
     "duration": 0.035805,
     "end_time": "2021-08-02T13:46:43.321993",
     "exception": false,
     "start_time": "2021-08-02T13:46:43.286188",
     "status": "completed"
    },
    "tags": []
   },
   "outputs": [
    {
     "name": "stdout",
     "output_type": "stream",
     "text": [
      "excerpt    0\n",
      "target     0\n",
      "dtype: int64\n"
     ]
    }
   ],
   "source": [
    "print(df.isnull().sum())"
   ]
  },
  {
   "cell_type": "code",
   "execution_count": 7,
   "id": "f28ebff4",
   "metadata": {
    "execution": {
     "iopub.execute_input": "2021-08-02T13:46:43.376181Z",
     "iopub.status.busy": "2021-08-02T13:46:43.375683Z",
     "iopub.status.idle": "2021-08-02T13:46:43.379613Z",
     "shell.execute_reply": "2021-08-02T13:46:43.379156Z",
     "shell.execute_reply.started": "2021-08-02T12:48:15.683891Z"
    },
    "papermill": {
     "duration": 0.03271,
     "end_time": "2021-08-02T13:46:43.379723",
     "exception": false,
     "start_time": "2021-08-02T13:46:43.347013",
     "status": "completed"
    },
    "tags": []
   },
   "outputs": [],
   "source": [
    "X = df[\"excerpt\"]\n",
    "Y = df[\"target\"]"
   ]
  },
  {
   "cell_type": "code",
   "execution_count": 8,
   "id": "b3badb87",
   "metadata": {
    "execution": {
     "iopub.execute_input": "2021-08-02T13:46:43.434350Z",
     "iopub.status.busy": "2021-08-02T13:46:43.433820Z",
     "iopub.status.idle": "2021-08-02T13:46:43.437683Z",
     "shell.execute_reply": "2021-08-02T13:46:43.437256Z",
     "shell.execute_reply.started": "2021-08-02T12:48:15.696133Z"
    },
    "papermill": {
     "duration": 0.033102,
     "end_time": "2021-08-02T13:46:43.437795",
     "exception": false,
     "start_time": "2021-08-02T13:46:43.404693",
     "status": "completed"
    },
    "tags": []
   },
   "outputs": [],
   "source": [
    "import re\n",
    "def text_cleaning(text):\n",
    "  # cleaned_text = re.sub(r\"[,.;@#?!&$]+\\*\", \" \", text)\n",
    "  cleaned_text = \" \".join(re.findall(\"[a-zA-Z?!,.]+\", text))\n",
    "\n",
    "  return cleaned_text"
   ]
  },
  {
   "cell_type": "code",
   "execution_count": 9,
   "id": "33c50909",
   "metadata": {
    "execution": {
     "iopub.execute_input": "2021-08-02T13:46:43.512344Z",
     "iopub.status.busy": "2021-08-02T13:46:43.502080Z",
     "iopub.status.idle": "2021-08-02T13:46:43.650489Z",
     "shell.execute_reply": "2021-08-02T13:46:43.650038Z",
     "shell.execute_reply.started": "2021-08-02T12:48:15.707202Z"
    },
    "papermill": {
     "duration": 0.187623,
     "end_time": "2021-08-02T13:46:43.650637",
     "exception": false,
     "start_time": "2021-08-02T13:46:43.463014",
     "status": "completed"
    },
    "tags": []
   },
   "outputs": [],
   "source": [
    "X = X.apply(lambda x: text_cleaning(x))"
   ]
  },
  {
   "cell_type": "code",
   "execution_count": 10,
   "id": "8a6e34e3",
   "metadata": {
    "execution": {
     "iopub.execute_input": "2021-08-02T13:46:43.705328Z",
     "iopub.status.busy": "2021-08-02T13:46:43.704811Z",
     "iopub.status.idle": "2021-08-02T13:46:43.709921Z",
     "shell.execute_reply": "2021-08-02T13:46:43.710769Z",
     "shell.execute_reply.started": "2021-08-02T12:48:15.902357Z"
    },
    "papermill": {
     "duration": 0.034907,
     "end_time": "2021-08-02T13:46:43.710907",
     "exception": false,
     "start_time": "2021-08-02T13:46:43.676000",
     "status": "completed"
    },
    "tags": []
   },
   "outputs": [
    {
     "data": {
      "text/plain": [
       "'When the young people returned to the ballroom, it presented a decidedly changed appearance. Instead of an interior scene, it was a winter landscape. The floor was covered with snow white canvas, not laid on smoothly, but rumpled over bumps and hillocks, like a real snow field. The numerous palms and evergreens that had decorated the room, were powdered with flour and strewn with tufts of cotton, like snow. Also diamond dust had been lightly sprinkled on them, and glittering crystal icicles hung from the branches. At each end of the room, on the wall, hung a beautiful bear skin rug. These rugs were for prizes, one for the girls and one for the boys. And this was the game. The girls were gathered at one end of the room and the boys at the other, and one end was called the North Pole, and the other the South Pole. Each player was given a small flag which they were to plant on reaching the Pole. This would have been an easy matter, but each traveller was obliged to wear snowshoes.'"
      ]
     },
     "execution_count": 10,
     "metadata": {},
     "output_type": "execute_result"
    }
   ],
   "source": [
    "X[0]"
   ]
  },
  {
   "cell_type": "code",
   "execution_count": 11,
   "id": "fa5a5b25",
   "metadata": {
    "execution": {
     "iopub.execute_input": "2021-08-02T13:46:43.820932Z",
     "iopub.status.busy": "2021-08-02T13:46:43.795290Z",
     "iopub.status.idle": "2021-08-02T13:46:44.356358Z",
     "shell.execute_reply": "2021-08-02T13:46:44.355886Z",
     "shell.execute_reply.started": "2021-08-02T12:48:15.914026Z"
    },
    "papermill": {
     "duration": 0.619848,
     "end_time": "2021-08-02T13:46:44.356486",
     "exception": false,
     "start_time": "2021-08-02T13:46:43.736638",
     "status": "completed"
    },
    "tags": []
   },
   "outputs": [],
   "source": [
    "token = tf.keras.preprocessing.text.Tokenizer(lower = True)\n",
    "\n",
    "token.fit_on_texts(X)\n",
    "\n",
    "X_train = token.texts_to_sequences(X)"
   ]
  },
  {
   "cell_type": "code",
   "execution_count": 12,
   "id": "e7dbc0e6",
   "metadata": {
    "execution": {
     "iopub.execute_input": "2021-08-02T13:46:44.413283Z",
     "iopub.status.busy": "2021-08-02T13:46:44.412746Z",
     "iopub.status.idle": "2021-08-02T13:46:44.418388Z",
     "shell.execute_reply": "2021-08-02T13:46:44.417793Z",
     "shell.execute_reply.started": "2021-08-02T12:48:16.635458Z"
    },
    "papermill": {
     "duration": 0.035985,
     "end_time": "2021-08-02T13:46:44.418565",
     "exception": false,
     "start_time": "2021-08-02T13:46:44.382580",
     "status": "completed"
    },
    "tags": []
   },
   "outputs": [
    {
     "name": "stdout",
     "output_type": "stream",
     "text": [
      "218\n"
     ]
    }
   ],
   "source": [
    "MAX_SEQ_LEN = 0\n",
    "for i in X_train:\n",
    "  if len(i) > MAX_SEQ_LEN:\n",
    "    MAX_SEQ_LEN = len(i)\n",
    "\n",
    "print(MAX_SEQ_LEN)"
   ]
  },
  {
   "cell_type": "code",
   "execution_count": 13,
   "id": "4740ead5",
   "metadata": {
    "execution": {
     "iopub.execute_input": "2021-08-02T13:46:44.476482Z",
     "iopub.status.busy": "2021-08-02T13:46:44.475678Z",
     "iopub.status.idle": "2021-08-02T13:46:44.579491Z",
     "shell.execute_reply": "2021-08-02T13:46:44.579035Z",
     "shell.execute_reply.started": "2021-08-02T12:48:16.647505Z"
    },
    "papermill": {
     "duration": 0.134935,
     "end_time": "2021-08-02T13:46:44.579633",
     "exception": false,
     "start_time": "2021-08-02T13:46:44.444698",
     "status": "completed"
    },
    "tags": []
   },
   "outputs": [],
   "source": [
    "X_train = tf.keras.preprocessing.sequence.pad_sequences(X_train, maxlen = 215, padding = 'post', truncating='post')"
   ]
  },
  {
   "cell_type": "code",
   "execution_count": 14,
   "id": "89a3c551",
   "metadata": {
    "execution": {
     "iopub.execute_input": "2021-08-02T13:46:44.635573Z",
     "iopub.status.busy": "2021-08-02T13:46:44.635073Z",
     "iopub.status.idle": "2021-08-02T13:46:44.640434Z",
     "shell.execute_reply": "2021-08-02T13:46:44.640826Z",
     "shell.execute_reply.started": "2021-08-02T12:48:16.803672Z"
    },
    "papermill": {
     "duration": 0.035417,
     "end_time": "2021-08-02T13:46:44.640963",
     "exception": false,
     "start_time": "2021-08-02T13:46:44.605546",
     "status": "completed"
    },
    "tags": []
   },
   "outputs": [
    {
     "data": {
      "text/plain": [
       "26236"
      ]
     },
     "execution_count": 14,
     "metadata": {},
     "output_type": "execute_result"
    }
   ],
   "source": [
    "vocab_size = len(token.word_index) + 1\n",
    "vocab_size"
   ]
  },
  {
   "cell_type": "code",
   "execution_count": 15,
   "id": "099f34eb",
   "metadata": {
    "execution": {
     "iopub.execute_input": "2021-08-02T13:46:44.698276Z",
     "iopub.status.busy": "2021-08-02T13:46:44.697666Z",
     "iopub.status.idle": "2021-08-02T13:51:10.739142Z",
     "shell.execute_reply": "2021-08-02T13:51:10.738094Z",
     "shell.execute_reply.started": "2021-08-02T12:48:16.817413Z"
    },
    "papermill": {
     "duration": 266.072041,
     "end_time": "2021-08-02T13:51:10.739430",
     "exception": false,
     "start_time": "2021-08-02T13:46:44.667389",
     "status": "completed"
    },
    "tags": []
   },
   "outputs": [
    {
     "name": "stderr",
     "output_type": "stream",
     "text": [
      "2196018it [04:26, 8255.07it/s]\n"
     ]
    }
   ],
   "source": [
    "from tqdm import tqdm\n",
    "embedding_vector = {}\n",
    "f = open('../input/glove840b300dtxt/glove.840B.300d.txt')\n",
    "for line in tqdm(f):\n",
    "    value = line.split(' ')\n",
    "    word = value[0]\n",
    "    coef = np.array(value[1:], dtype = 'float32')\n",
    "    embedding_vector[word] = coef"
   ]
  },
  {
   "cell_type": "code",
   "execution_count": 16,
   "id": "93102334",
   "metadata": {
    "execution": {
     "iopub.execute_input": "2021-08-02T13:51:12.256253Z",
     "iopub.status.busy": "2021-08-02T13:51:12.255419Z",
     "iopub.status.idle": "2021-08-02T13:51:12.376137Z",
     "shell.execute_reply": "2021-08-02T13:51:12.375615Z",
     "shell.execute_reply.started": "2021-08-02T12:53:06.136175Z"
    },
    "papermill": {
     "duration": 0.855599,
     "end_time": "2021-08-02T13:51:12.376271",
     "exception": false,
     "start_time": "2021-08-02T13:51:11.520672",
     "status": "completed"
    },
    "tags": []
   },
   "outputs": [
    {
     "name": "stderr",
     "output_type": "stream",
     "text": [
      "100%|██████████| 26235/26235 [00:00<00:00, 231221.39it/s]\n"
     ]
    }
   ],
   "source": [
    "embedding_matrix = np.zeros((vocab_size, 300))\n",
    "for word, i in tqdm(token.word_index.items()):\n",
    "    embedding_value = embedding_vector.get(word)\n",
    "    if embedding_value is not None:\n",
    "      embedding_matrix[i] = embedding_value"
   ]
  },
  {
   "cell_type": "code",
   "execution_count": 17,
   "id": "e426134c",
   "metadata": {
    "execution": {
     "iopub.execute_input": "2021-08-02T13:51:13.842562Z",
     "iopub.status.busy": "2021-08-02T13:51:13.841935Z",
     "iopub.status.idle": "2021-08-02T13:51:13.846281Z",
     "shell.execute_reply": "2021-08-02T13:51:13.845816Z",
     "shell.execute_reply.started": "2021-08-02T12:53:06.271728Z"
    },
    "papermill": {
     "duration": 0.733681,
     "end_time": "2021-08-02T13:51:13.846422",
     "exception": false,
     "start_time": "2021-08-02T13:51:13.112741",
     "status": "completed"
    },
    "tags": []
   },
   "outputs": [],
   "source": [
    "def create_model():\n",
    "    model = tf.keras.models.Sequential()\n",
    "    model.add(tf.keras.layers.Embedding(vocab_size, 300, weights = [embedding_matrix], input_length = 200, trainable = False))\n",
    "    model.add(tf.keras.layers.LSTM(75))\n",
    "    model.add(tf.keras.layers.Dense(1))\n",
    "\n",
    "    return model"
   ]
  },
  {
   "cell_type": "code",
   "execution_count": 18,
   "id": "86267793",
   "metadata": {
    "execution": {
     "iopub.execute_input": "2021-08-02T13:51:15.319647Z",
     "iopub.status.busy": "2021-08-02T13:51:15.318696Z",
     "iopub.status.idle": "2021-08-02T13:52:30.429304Z",
     "shell.execute_reply": "2021-08-02T13:52:30.430110Z",
     "shell.execute_reply.started": "2021-08-02T12:53:06.282056Z"
    },
    "papermill": {
     "duration": 75.850637,
     "end_time": "2021-08-02T13:52:30.430287",
     "exception": false,
     "start_time": "2021-08-02T13:51:14.579650",
     "status": "completed"
    },
    "tags": []
   },
   "outputs": [
    {
     "name": "stdout",
     "output_type": "stream",
     "text": [
      "Epoch 1/190\n",
      "1/1 [==============================] - 9s 9s/step - loss: 2.0810 - root_mean_squared_error: 1.4426 - val_loss: 1.5839 - val_root_mean_squared_error: 1.2585\n",
      "Epoch 2/190\n",
      "1/1 [==============================] - 0s 321ms/step - loss: 2.0417 - root_mean_squared_error: 1.4289 - val_loss: 1.5494 - val_root_mean_squared_error: 1.2447\n",
      "Epoch 3/190\n",
      "1/1 [==============================] - 0s 388ms/step - loss: 2.0007 - root_mean_squared_error: 1.4145 - val_loss: 1.5093 - val_root_mean_squared_error: 1.2285\n",
      "Epoch 4/190\n",
      "1/1 [==============================] - 0s 358ms/step - loss: 1.9531 - root_mean_squared_error: 1.3975 - val_loss: 1.4605 - val_root_mean_squared_error: 1.2085\n",
      "Epoch 5/190\n",
      "1/1 [==============================] - 0s 321ms/step - loss: 1.8950 - root_mean_squared_error: 1.3766 - val_loss: 1.4002 - val_root_mean_squared_error: 1.1833\n",
      "Epoch 6/190\n",
      "1/1 [==============================] - 0s 319ms/step - loss: 1.8230 - root_mean_squared_error: 1.3502 - val_loss: 1.3256 - val_root_mean_squared_error: 1.1513\n",
      "Epoch 7/190\n",
      "1/1 [==============================] - 0s 346ms/step - loss: 1.7346 - root_mean_squared_error: 1.3170 - val_loss: 1.2354 - val_root_mean_squared_error: 1.1115\n",
      "Epoch 8/190\n",
      "1/1 [==============================] - 0s 357ms/step - loss: 1.6287 - root_mean_squared_error: 1.2762 - val_loss: 1.1323 - val_root_mean_squared_error: 1.0641\n",
      "Epoch 9/190\n",
      "1/1 [==============================] - 0s 336ms/step - loss: 1.5093 - root_mean_squared_error: 1.2286 - val_loss: 1.0302 - val_root_mean_squared_error: 1.0150\n",
      "Epoch 10/190\n",
      "1/1 [==============================] - 0s 326ms/step - loss: 1.3912 - root_mean_squared_error: 1.1795 - val_loss: 0.9712 - val_root_mean_squared_error: 0.9855\n",
      "Epoch 11/190\n",
      "1/1 [==============================] - 0s 324ms/step - loss: 1.3130 - root_mean_squared_error: 1.1459 - val_loss: 1.0254 - val_root_mean_squared_error: 1.0126\n",
      "Epoch 12/190\n",
      "1/1 [==============================] - 0s 323ms/step - loss: 1.3315 - root_mean_squared_error: 1.1539 - val_loss: 1.0945 - val_root_mean_squared_error: 1.0462\n",
      "Epoch 13/190\n",
      "1/1 [==============================] - 0s 327ms/step - loss: 1.3664 - root_mean_squared_error: 1.1689 - val_loss: 1.0467 - val_root_mean_squared_error: 1.0231\n",
      "Epoch 14/190\n",
      "1/1 [==============================] - 0s 324ms/step - loss: 1.3103 - root_mean_squared_error: 1.1447 - val_loss: 0.9537 - val_root_mean_squared_error: 0.9766\n",
      "Epoch 15/190\n",
      "1/1 [==============================] - 0s 324ms/step - loss: 1.2239 - root_mean_squared_error: 1.1063 - val_loss: 0.8823 - val_root_mean_squared_error: 0.9393\n",
      "Epoch 16/190\n",
      "1/1 [==============================] - 0s 325ms/step - loss: 1.1642 - root_mean_squared_error: 1.0790 - val_loss: 0.8492 - val_root_mean_squared_error: 0.9215\n",
      "Epoch 17/190\n",
      "1/1 [==============================] - 0s 323ms/step - loss: 1.1427 - root_mean_squared_error: 1.0690 - val_loss: 0.8433 - val_root_mean_squared_error: 0.9183\n",
      "Epoch 18/190\n",
      "1/1 [==============================] - 0s 322ms/step - loss: 1.1466 - root_mean_squared_error: 1.0708 - val_loss: 0.8495 - val_root_mean_squared_error: 0.9217\n",
      "Epoch 19/190\n",
      "1/1 [==============================] - 0s 327ms/step - loss: 1.1601 - root_mean_squared_error: 1.0771 - val_loss: 0.8574 - val_root_mean_squared_error: 0.9259\n",
      "Epoch 20/190\n",
      "1/1 [==============================] - 0s 322ms/step - loss: 1.1724 - root_mean_squared_error: 1.0828 - val_loss: 0.8615 - val_root_mean_squared_error: 0.9282\n",
      "Epoch 21/190\n",
      "1/1 [==============================] - 0s 328ms/step - loss: 1.1782 - root_mean_squared_error: 1.0854 - val_loss: 0.8602 - val_root_mean_squared_error: 0.9274\n",
      "Epoch 22/190\n",
      "1/1 [==============================] - 0s 318ms/step - loss: 1.1757 - root_mean_squared_error: 1.0843 - val_loss: 0.8539 - val_root_mean_squared_error: 0.9241\n",
      "Epoch 23/190\n",
      "1/1 [==============================] - 0s 321ms/step - loss: 1.1656 - root_mean_squared_error: 1.0796 - val_loss: 0.8447 - val_root_mean_squared_error: 0.9191\n",
      "Epoch 24/190\n",
      "1/1 [==============================] - 0s 317ms/step - loss: 1.1501 - root_mean_squared_error: 1.0724 - val_loss: 0.8355 - val_root_mean_squared_error: 0.9140\n",
      "Epoch 25/190\n",
      "1/1 [==============================] - 0s 324ms/step - loss: 1.1323 - root_mean_squared_error: 1.0641 - val_loss: 0.8295 - val_root_mean_squared_error: 0.9108\n",
      "Epoch 26/190\n",
      "1/1 [==============================] - 0s 323ms/step - loss: 1.1158 - root_mean_squared_error: 1.0563 - val_loss: 0.8297 - val_root_mean_squared_error: 0.9109\n",
      "Epoch 27/190\n",
      "1/1 [==============================] - 0s 324ms/step - loss: 1.1041 - root_mean_squared_error: 1.0508 - val_loss: 0.8375 - val_root_mean_squared_error: 0.9152\n",
      "Epoch 28/190\n",
      "1/1 [==============================] - 0s 319ms/step - loss: 1.0995 - root_mean_squared_error: 1.0486 - val_loss: 0.8524 - val_root_mean_squared_error: 0.9233\n",
      "Epoch 29/190\n",
      "1/1 [==============================] - 0s 316ms/step - loss: 1.1023 - root_mean_squared_error: 1.0499 - val_loss: 0.8710 - val_root_mean_squared_error: 0.9333\n",
      "Epoch 30/190\n",
      "1/1 [==============================] - 0s 318ms/step - loss: 1.1102 - root_mean_squared_error: 1.0536 - val_loss: 0.8886 - val_root_mean_squared_error: 0.9427\n",
      "Epoch 31/190\n",
      "1/1 [==============================] - 0s 331ms/step - loss: 1.1193 - root_mean_squared_error: 1.0580 - val_loss: 0.9008 - val_root_mean_squared_error: 0.9491\n",
      "Epoch 32/190\n",
      "1/1 [==============================] - 0s 329ms/step - loss: 1.1260 - root_mean_squared_error: 1.0611 - val_loss: 0.9052 - val_root_mean_squared_error: 0.9514\n",
      "Epoch 33/190\n",
      "1/1 [==============================] - 0s 322ms/step - loss: 1.1278 - root_mean_squared_error: 1.0620 - val_loss: 0.9015 - val_root_mean_squared_error: 0.9495\n",
      "Epoch 34/190\n",
      "1/1 [==============================] - 0s 318ms/step - loss: 1.1245 - root_mean_squared_error: 1.0604 - val_loss: 0.8916 - val_root_mean_squared_error: 0.9442\n",
      "Epoch 35/190\n",
      "1/1 [==============================] - 0s 319ms/step - loss: 1.1173 - root_mean_squared_error: 1.0570 - val_loss: 0.8783 - val_root_mean_squared_error: 0.9372\n",
      "Epoch 36/190\n",
      "1/1 [==============================] - 0s 366ms/step - loss: 1.1085 - root_mean_squared_error: 1.0529 - val_loss: 0.8644 - val_root_mean_squared_error: 0.9297\n",
      "Epoch 37/190\n",
      "1/1 [==============================] - 0s 364ms/step - loss: 1.1002 - root_mean_squared_error: 1.0489 - val_loss: 0.8521 - val_root_mean_squared_error: 0.9231\n",
      "Epoch 38/190\n",
      "1/1 [==============================] - 0s 321ms/step - loss: 1.0940 - root_mean_squared_error: 1.0459 - val_loss: 0.8427 - val_root_mean_squared_error: 0.9180\n",
      "Epoch 39/190\n",
      "1/1 [==============================] - 0s 319ms/step - loss: 1.0904 - root_mean_squared_error: 1.0442 - val_loss: 0.8366 - val_root_mean_squared_error: 0.9147\n",
      "Epoch 40/190\n",
      "1/1 [==============================] - 0s 329ms/step - loss: 1.0894 - root_mean_squared_error: 1.0437 - val_loss: 0.8334 - val_root_mean_squared_error: 0.9129\n",
      "Epoch 41/190\n",
      "1/1 [==============================] - 0s 395ms/step - loss: 1.0901 - root_mean_squared_error: 1.0441 - val_loss: 0.8323 - val_root_mean_squared_error: 0.9123\n",
      "Epoch 42/190\n",
      "1/1 [==============================] - 0s 382ms/step - loss: 1.0914 - root_mean_squared_error: 1.0447 - val_loss: 0.8325 - val_root_mean_squared_error: 0.9124\n",
      "Epoch 43/190\n",
      "1/1 [==============================] - 0s 366ms/step - loss: 1.0922 - root_mean_squared_error: 1.0451 - val_loss: 0.8331 - val_root_mean_squared_error: 0.9128\n",
      "Epoch 44/190\n",
      "1/1 [==============================] - 0s 326ms/step - loss: 1.0915 - root_mean_squared_error: 1.0448 - val_loss: 0.8337 - val_root_mean_squared_error: 0.9131\n",
      "Epoch 45/190\n",
      "1/1 [==============================] - 0s 325ms/step - loss: 1.0888 - root_mean_squared_error: 1.0434 - val_loss: 0.8339 - val_root_mean_squared_error: 0.9132\n",
      "Epoch 46/190\n",
      "1/1 [==============================] - 0s 322ms/step - loss: 1.0836 - root_mean_squared_error: 1.0410 - val_loss: 0.8339 - val_root_mean_squared_error: 0.9132\n",
      "Epoch 47/190\n",
      "1/1 [==============================] - 0s 321ms/step - loss: 1.0761 - root_mean_squared_error: 1.0374 - val_loss: 0.8341 - val_root_mean_squared_error: 0.9133\n",
      "Epoch 48/190\n",
      "1/1 [==============================] - 0s 325ms/step - loss: 1.0668 - root_mean_squared_error: 1.0329 - val_loss: 0.8348 - val_root_mean_squared_error: 0.9137\n",
      "Epoch 49/190\n",
      "1/1 [==============================] - 0s 328ms/step - loss: 1.0561 - root_mean_squared_error: 1.0277 - val_loss: 0.8369 - val_root_mean_squared_error: 0.9148\n",
      "Epoch 50/190\n",
      "1/1 [==============================] - 0s 316ms/step - loss: 1.0447 - root_mean_squared_error: 1.0221 - val_loss: 0.8409 - val_root_mean_squared_error: 0.9170\n",
      "Epoch 51/190\n",
      "1/1 [==============================] - 0s 315ms/step - loss: 1.0334 - root_mean_squared_error: 1.0166 - val_loss: 0.8475 - val_root_mean_squared_error: 0.9206\n",
      "Epoch 52/190\n",
      "1/1 [==============================] - 0s 318ms/step - loss: 1.0227 - root_mean_squared_error: 1.0113 - val_loss: 0.8568 - val_root_mean_squared_error: 0.9256\n",
      "Epoch 53/190\n",
      "1/1 [==============================] - 0s 320ms/step - loss: 1.0128 - root_mean_squared_error: 1.0064 - val_loss: 0.8690 - val_root_mean_squared_error: 0.9322\n",
      "Epoch 54/190\n",
      "1/1 [==============================] - 0s 316ms/step - loss: 1.0041 - root_mean_squared_error: 1.0020 - val_loss: 0.8836 - val_root_mean_squared_error: 0.9400\n",
      "Epoch 55/190\n",
      "1/1 [==============================] - 0s 327ms/step - loss: 0.9964 - root_mean_squared_error: 0.9982 - val_loss: 0.8995 - val_root_mean_squared_error: 0.9484\n",
      "Epoch 56/190\n",
      "1/1 [==============================] - 0s 350ms/step - loss: 0.9897 - root_mean_squared_error: 0.9948 - val_loss: 0.9143 - val_root_mean_squared_error: 0.9562\n",
      "Epoch 57/190\n",
      "1/1 [==============================] - 0s 368ms/step - loss: 0.9833 - root_mean_squared_error: 0.9916 - val_loss: 0.9253 - val_root_mean_squared_error: 0.9619\n",
      "Epoch 58/190\n",
      "1/1 [==============================] - 0s 382ms/step - loss: 0.9764 - root_mean_squared_error: 0.9881 - val_loss: 0.9305 - val_root_mean_squared_error: 0.9646\n",
      "Epoch 59/190\n",
      "1/1 [==============================] - 0s 379ms/step - loss: 0.9680 - root_mean_squared_error: 0.9839 - val_loss: 0.9298 - val_root_mean_squared_error: 0.9643\n",
      "Epoch 60/190\n",
      "1/1 [==============================] - 0s 364ms/step - loss: 0.9581 - root_mean_squared_error: 0.9788 - val_loss: 0.9246 - val_root_mean_squared_error: 0.9616\n",
      "Epoch 61/190\n",
      "1/1 [==============================] - 0s 334ms/step - loss: 0.9467 - root_mean_squared_error: 0.9730 - val_loss: 0.9163 - val_root_mean_squared_error: 0.9572\n",
      "Epoch 62/190\n",
      "1/1 [==============================] - 0s 323ms/step - loss: 0.9337 - root_mean_squared_error: 0.9663 - val_loss: 0.9056 - val_root_mean_squared_error: 0.9516\n",
      "Epoch 63/190\n",
      "1/1 [==============================] - 0s 327ms/step - loss: 0.9187 - root_mean_squared_error: 0.9585 - val_loss: 0.8933 - val_root_mean_squared_error: 0.9451\n",
      "Epoch 64/190\n",
      "1/1 [==============================] - 0s 322ms/step - loss: 0.9020 - root_mean_squared_error: 0.9497 - val_loss: 0.8794 - val_root_mean_squared_error: 0.9378\n",
      "Epoch 65/190\n",
      "1/1 [==============================] - 0s 327ms/step - loss: 0.8852 - root_mean_squared_error: 0.9408 - val_loss: 0.8626 - val_root_mean_squared_error: 0.9288\n",
      "Epoch 66/190\n",
      "1/1 [==============================] - 0s 322ms/step - loss: 0.8694 - root_mean_squared_error: 0.9324 - val_loss: 0.8426 - val_root_mean_squared_error: 0.9179\n",
      "Epoch 67/190\n",
      "1/1 [==============================] - 0s 331ms/step - loss: 0.8543 - root_mean_squared_error: 0.9243 - val_loss: 0.8195 - val_root_mean_squared_error: 0.9053\n",
      "Epoch 68/190\n",
      "1/1 [==============================] - 0s 371ms/step - loss: 0.8402 - root_mean_squared_error: 0.9166 - val_loss: 0.7985 - val_root_mean_squared_error: 0.8936\n",
      "Epoch 69/190\n",
      "1/1 [==============================] - 0s 366ms/step - loss: 0.8272 - root_mean_squared_error: 0.9095 - val_loss: 0.7832 - val_root_mean_squared_error: 0.8850\n",
      "Epoch 70/190\n",
      "1/1 [==============================] - 0s 325ms/step - loss: 0.8146 - root_mean_squared_error: 0.9026 - val_loss: 0.7704 - val_root_mean_squared_error: 0.8777\n",
      "Epoch 71/190\n",
      "1/1 [==============================] - 0s 325ms/step - loss: 0.8046 - root_mean_squared_error: 0.8970 - val_loss: 0.7598 - val_root_mean_squared_error: 0.8717\n",
      "Epoch 72/190\n",
      "1/1 [==============================] - 0s 325ms/step - loss: 0.7938 - root_mean_squared_error: 0.8910 - val_loss: 0.7495 - val_root_mean_squared_error: 0.8657\n",
      "Epoch 73/190\n",
      "1/1 [==============================] - 0s 330ms/step - loss: 0.7840 - root_mean_squared_error: 0.8854 - val_loss: 0.7416 - val_root_mean_squared_error: 0.8612\n",
      "Epoch 74/190\n",
      "1/1 [==============================] - 0s 328ms/step - loss: 0.7731 - root_mean_squared_error: 0.8792 - val_loss: 0.7350 - val_root_mean_squared_error: 0.8573\n",
      "Epoch 75/190\n",
      "1/1 [==============================] - 0s 323ms/step - loss: 0.7603 - root_mean_squared_error: 0.8720 - val_loss: 0.7213 - val_root_mean_squared_error: 0.8493\n",
      "Epoch 76/190\n",
      "1/1 [==============================] - 0s 320ms/step - loss: 0.7459 - root_mean_squared_error: 0.8637 - val_loss: 0.7119 - val_root_mean_squared_error: 0.8437\n",
      "Epoch 77/190\n",
      "1/1 [==============================] - 0s 316ms/step - loss: 0.7307 - root_mean_squared_error: 0.8548 - val_loss: 0.7091 - val_root_mean_squared_error: 0.8421\n",
      "Epoch 78/190\n",
      "1/1 [==============================] - 0s 320ms/step - loss: 0.7159 - root_mean_squared_error: 0.8461 - val_loss: 0.7026 - val_root_mean_squared_error: 0.8382\n",
      "Epoch 79/190\n",
      "1/1 [==============================] - 0s 329ms/step - loss: 0.7050 - root_mean_squared_error: 0.8396 - val_loss: 0.6947 - val_root_mean_squared_error: 0.8335\n",
      "Epoch 80/190\n",
      "1/1 [==============================] - 0s 317ms/step - loss: 0.6850 - root_mean_squared_error: 0.8276 - val_loss: 0.6914 - val_root_mean_squared_error: 0.8315\n",
      "Epoch 81/190\n",
      "1/1 [==============================] - 0s 323ms/step - loss: 0.6783 - root_mean_squared_error: 0.8236 - val_loss: 0.6890 - val_root_mean_squared_error: 0.8301\n",
      "Epoch 82/190\n",
      "1/1 [==============================] - 0s 317ms/step - loss: 0.6659 - root_mean_squared_error: 0.8160 - val_loss: 0.6647 - val_root_mean_squared_error: 0.8153\n",
      "Epoch 83/190\n",
      "1/1 [==============================] - 0s 320ms/step - loss: 0.6471 - root_mean_squared_error: 0.8044 - val_loss: 0.6506 - val_root_mean_squared_error: 0.8066\n",
      "Epoch 84/190\n",
      "1/1 [==============================] - 0s 322ms/step - loss: 0.6498 - root_mean_squared_error: 0.8061 - val_loss: 0.6508 - val_root_mean_squared_error: 0.8067\n",
      "Epoch 85/190\n",
      "1/1 [==============================] - 0s 324ms/step - loss: 0.6309 - root_mean_squared_error: 0.7943 - val_loss: 0.6581 - val_root_mean_squared_error: 0.8112\n",
      "Epoch 86/190\n",
      "1/1 [==============================] - 0s 321ms/step - loss: 0.6330 - root_mean_squared_error: 0.7956 - val_loss: 0.6545 - val_root_mean_squared_error: 0.8090\n",
      "Epoch 87/190\n",
      "1/1 [==============================] - 0s 321ms/step - loss: 0.6280 - root_mean_squared_error: 0.7925 - val_loss: 0.6311 - val_root_mean_squared_error: 0.7944\n",
      "Epoch 88/190\n",
      "1/1 [==============================] - 0s 323ms/step - loss: 0.6166 - root_mean_squared_error: 0.7852 - val_loss: 0.6277 - val_root_mean_squared_error: 0.7923\n",
      "Epoch 89/190\n",
      "1/1 [==============================] - 0s 319ms/step - loss: 0.6199 - root_mean_squared_error: 0.7873 - val_loss: 0.6235 - val_root_mean_squared_error: 0.7896\n",
      "Epoch 90/190\n",
      "1/1 [==============================] - 0s 319ms/step - loss: 0.6156 - root_mean_squared_error: 0.7846 - val_loss: 0.6171 - val_root_mean_squared_error: 0.7856\n",
      "Epoch 91/190\n",
      "1/1 [==============================] - 0s 327ms/step - loss: 0.6017 - root_mean_squared_error: 0.7757 - val_loss: 0.6272 - val_root_mean_squared_error: 0.7920\n",
      "Epoch 92/190\n",
      "1/1 [==============================] - 0s 319ms/step - loss: 0.6040 - root_mean_squared_error: 0.7771 - val_loss: 0.6204 - val_root_mean_squared_error: 0.7877\n",
      "Epoch 93/190\n",
      "1/1 [==============================] - 0s 317ms/step - loss: 0.5981 - root_mean_squared_error: 0.7733 - val_loss: 0.5985 - val_root_mean_squared_error: 0.7737\n",
      "Epoch 94/190\n",
      "1/1 [==============================] - 0s 319ms/step - loss: 0.5857 - root_mean_squared_error: 0.7653 - val_loss: 0.5950 - val_root_mean_squared_error: 0.7714\n",
      "Epoch 95/190\n",
      "1/1 [==============================] - 0s 317ms/step - loss: 0.5887 - root_mean_squared_error: 0.7672 - val_loss: 0.5905 - val_root_mean_squared_error: 0.7685\n",
      "Epoch 96/190\n",
      "1/1 [==============================] - 0s 319ms/step - loss: 0.5792 - root_mean_squared_error: 0.7610 - val_loss: 0.5892 - val_root_mean_squared_error: 0.7676\n",
      "Epoch 97/190\n",
      "1/1 [==============================] - 0s 324ms/step - loss: 0.5721 - root_mean_squared_error: 0.7564 - val_loss: 0.5965 - val_root_mean_squared_error: 0.7723\n",
      "Epoch 98/190\n",
      "1/1 [==============================] - 0s 326ms/step - loss: 0.5727 - root_mean_squared_error: 0.7567 - val_loss: 0.5864 - val_root_mean_squared_error: 0.7658\n",
      "Epoch 99/190\n",
      "1/1 [==============================] - 0s 334ms/step - loss: 0.5670 - root_mean_squared_error: 0.7530 - val_loss: 0.5703 - val_root_mean_squared_error: 0.7552\n",
      "Epoch 100/190\n",
      "1/1 [==============================] - 0s 318ms/step - loss: 0.5615 - root_mean_squared_error: 0.7493 - val_loss: 0.5631 - val_root_mean_squared_error: 0.7504\n",
      "Epoch 101/190\n",
      "1/1 [==============================] - 0s 369ms/step - loss: 0.5603 - root_mean_squared_error: 0.7485 - val_loss: 0.5624 - val_root_mean_squared_error: 0.7499\n",
      "Epoch 102/190\n",
      "1/1 [==============================] - 0s 355ms/step - loss: 0.5553 - root_mean_squared_error: 0.7452 - val_loss: 0.5664 - val_root_mean_squared_error: 0.7526\n",
      "Epoch 103/190\n",
      "1/1 [==============================] - 0s 347ms/step - loss: 0.5490 - root_mean_squared_error: 0.7409 - val_loss: 0.5780 - val_root_mean_squared_error: 0.7603\n",
      "Epoch 104/190\n",
      "1/1 [==============================] - 0s 316ms/step - loss: 0.5480 - root_mean_squared_error: 0.7402 - val_loss: 0.5742 - val_root_mean_squared_error: 0.7578\n",
      "Epoch 105/190\n",
      "1/1 [==============================] - 0s 324ms/step - loss: 0.5398 - root_mean_squared_error: 0.7347 - val_loss: 0.5670 - val_root_mean_squared_error: 0.7530\n",
      "Epoch 106/190\n",
      "1/1 [==============================] - 0s 320ms/step - loss: 0.5368 - root_mean_squared_error: 0.7327 - val_loss: 0.5656 - val_root_mean_squared_error: 0.7521\n",
      "Epoch 107/190\n",
      "1/1 [==============================] - 0s 323ms/step - loss: 0.5329 - root_mean_squared_error: 0.7300 - val_loss: 0.5719 - val_root_mean_squared_error: 0.7562\n",
      "Epoch 108/190\n",
      "1/1 [==============================] - 0s 317ms/step - loss: 0.5226 - root_mean_squared_error: 0.7229 - val_loss: 0.5798 - val_root_mean_squared_error: 0.7614\n",
      "Epoch 109/190\n",
      "1/1 [==============================] - 0s 329ms/step - loss: 0.5237 - root_mean_squared_error: 0.7237 - val_loss: 0.5571 - val_root_mean_squared_error: 0.7464\n",
      "Epoch 110/190\n",
      "1/1 [==============================] - 0s 321ms/step - loss: 0.5107 - root_mean_squared_error: 0.7146 - val_loss: 0.5389 - val_root_mean_squared_error: 0.7341\n",
      "Epoch 111/190\n",
      "1/1 [==============================] - 0s 319ms/step - loss: 0.5088 - root_mean_squared_error: 0.7133 - val_loss: 0.5302 - val_root_mean_squared_error: 0.7282\n",
      "Epoch 112/190\n",
      "1/1 [==============================] - 0s 322ms/step - loss: 0.5037 - root_mean_squared_error: 0.7097 - val_loss: 0.5326 - val_root_mean_squared_error: 0.7298\n",
      "Epoch 113/190\n",
      "1/1 [==============================] - 0s 322ms/step - loss: 0.4940 - root_mean_squared_error: 0.7029 - val_loss: 0.5453 - val_root_mean_squared_error: 0.7385\n",
      "Epoch 114/190\n",
      "1/1 [==============================] - 0s 318ms/step - loss: 0.4961 - root_mean_squared_error: 0.7043 - val_loss: 0.5298 - val_root_mean_squared_error: 0.7279\n",
      "Epoch 115/190\n",
      "1/1 [==============================] - 0s 324ms/step - loss: 0.4843 - root_mean_squared_error: 0.6959 - val_loss: 0.5147 - val_root_mean_squared_error: 0.7174\n",
      "Epoch 116/190\n",
      "1/1 [==============================] - 0s 318ms/step - loss: 0.4809 - root_mean_squared_error: 0.6935 - val_loss: 0.5190 - val_root_mean_squared_error: 0.7204\n",
      "Epoch 117/190\n",
      "1/1 [==============================] - 0s 319ms/step - loss: 0.4763 - root_mean_squared_error: 0.6901 - val_loss: 0.5190 - val_root_mean_squared_error: 0.7204\n",
      "Epoch 118/190\n",
      "1/1 [==============================] - 0s 319ms/step - loss: 0.4590 - root_mean_squared_error: 0.6775 - val_loss: 0.5457 - val_root_mean_squared_error: 0.7387\n",
      "Epoch 119/190\n",
      "1/1 [==============================] - 0s 316ms/step - loss: 0.4636 - root_mean_squared_error: 0.6808 - val_loss: 0.5173 - val_root_mean_squared_error: 0.7192\n",
      "Epoch 120/190\n",
      "1/1 [==============================] - 0s 321ms/step - loss: 0.4494 - root_mean_squared_error: 0.6703 - val_loss: 0.5133 - val_root_mean_squared_error: 0.7165\n",
      "Epoch 121/190\n",
      "1/1 [==============================] - 0s 329ms/step - loss: 0.4546 - root_mean_squared_error: 0.6742 - val_loss: 0.5178 - val_root_mean_squared_error: 0.7195\n",
      "Epoch 122/190\n",
      "1/1 [==============================] - 0s 320ms/step - loss: 0.4402 - root_mean_squared_error: 0.6634 - val_loss: 0.5360 - val_root_mean_squared_error: 0.7321\n",
      "Epoch 123/190\n",
      "1/1 [==============================] - 0s 318ms/step - loss: 0.4392 - root_mean_squared_error: 0.6627 - val_loss: 0.5203 - val_root_mean_squared_error: 0.7213\n",
      "Epoch 124/190\n",
      "1/1 [==============================] - 0s 318ms/step - loss: 0.4303 - root_mean_squared_error: 0.6560 - val_loss: 0.5379 - val_root_mean_squared_error: 0.7334\n",
      "Epoch 125/190\n",
      "1/1 [==============================] - 0s 320ms/step - loss: 0.4276 - root_mean_squared_error: 0.6539 - val_loss: 0.5395 - val_root_mean_squared_error: 0.7345\n",
      "Epoch 126/190\n",
      "1/1 [==============================] - 0s 318ms/step - loss: 0.4240 - root_mean_squared_error: 0.6512 - val_loss: 0.5207 - val_root_mean_squared_error: 0.7216\n",
      "Epoch 127/190\n",
      "1/1 [==============================] - 0s 331ms/step - loss: 0.4169 - root_mean_squared_error: 0.6457 - val_loss: 0.5003 - val_root_mean_squared_error: 0.7073\n",
      "Epoch 128/190\n",
      "1/1 [==============================] - 0s 323ms/step - loss: 0.4133 - root_mean_squared_error: 0.6429 - val_loss: 0.4837 - val_root_mean_squared_error: 0.6955\n",
      "Epoch 129/190\n",
      "1/1 [==============================] - 0s 317ms/step - loss: 0.4115 - root_mean_squared_error: 0.6415 - val_loss: 0.4816 - val_root_mean_squared_error: 0.6940\n",
      "Epoch 130/190\n",
      "1/1 [==============================] - 0s 318ms/step - loss: 0.4213 - root_mean_squared_error: 0.6491 - val_loss: 0.4836 - val_root_mean_squared_error: 0.6954\n",
      "Epoch 131/190\n",
      "1/1 [==============================] - 0s 324ms/step - loss: 0.4119 - root_mean_squared_error: 0.6418 - val_loss: 0.5052 - val_root_mean_squared_error: 0.7108\n",
      "Epoch 132/190\n",
      "1/1 [==============================] - 0s 318ms/step - loss: 0.4056 - root_mean_squared_error: 0.6368 - val_loss: 0.5022 - val_root_mean_squared_error: 0.7086\n",
      "Epoch 133/190\n",
      "1/1 [==============================] - 0s 326ms/step - loss: 0.3978 - root_mean_squared_error: 0.6308 - val_loss: 0.5104 - val_root_mean_squared_error: 0.7144\n",
      "Epoch 134/190\n",
      "1/1 [==============================] - 0s 320ms/step - loss: 0.4017 - root_mean_squared_error: 0.6338 - val_loss: 0.5160 - val_root_mean_squared_error: 0.7183\n",
      "Epoch 135/190\n",
      "1/1 [==============================] - 0s 383ms/step - loss: 0.4042 - root_mean_squared_error: 0.6358 - val_loss: 0.5270 - val_root_mean_squared_error: 0.7259\n",
      "Epoch 136/190\n",
      "1/1 [==============================] - 0s 347ms/step - loss: 0.3943 - root_mean_squared_error: 0.6279 - val_loss: 0.5620 - val_root_mean_squared_error: 0.7497\n",
      "Epoch 137/190\n",
      "1/1 [==============================] - 0s 323ms/step - loss: 0.4114 - root_mean_squared_error: 0.6414 - val_loss: 0.5190 - val_root_mean_squared_error: 0.7204\n",
      "Epoch 138/190\n",
      "1/1 [==============================] - 0s 365ms/step - loss: 0.3868 - root_mean_squared_error: 0.6219 - val_loss: 0.4999 - val_root_mean_squared_error: 0.7070\n",
      "Epoch 139/190\n",
      "1/1 [==============================] - 0s 393ms/step - loss: 0.3958 - root_mean_squared_error: 0.6291 - val_loss: 0.4966 - val_root_mean_squared_error: 0.7047\n",
      "Epoch 140/190\n",
      "1/1 [==============================] - 0s 370ms/step - loss: 0.3876 - root_mean_squared_error: 0.6226 - val_loss: 0.4964 - val_root_mean_squared_error: 0.7045\n",
      "Epoch 141/190\n",
      "1/1 [==============================] - 0s 350ms/step - loss: 0.3737 - root_mean_squared_error: 0.6113 - val_loss: 0.5196 - val_root_mean_squared_error: 0.7208\n",
      "Epoch 142/190\n",
      "1/1 [==============================] - 0s 326ms/step - loss: 0.3856 - root_mean_squared_error: 0.6209 - val_loss: 0.4811 - val_root_mean_squared_error: 0.6936\n",
      "Epoch 143/190\n",
      "1/1 [==============================] - 0s 318ms/step - loss: 0.3639 - root_mean_squared_error: 0.6033 - val_loss: 0.4968 - val_root_mean_squared_error: 0.7048\n",
      "Epoch 144/190\n",
      "1/1 [==============================] - 0s 321ms/step - loss: 0.3872 - root_mean_squared_error: 0.6223 - val_loss: 0.4845 - val_root_mean_squared_error: 0.6960\n",
      "Epoch 145/190\n",
      "1/1 [==============================] - 0s 335ms/step - loss: 0.3599 - root_mean_squared_error: 0.5999 - val_loss: 0.5005 - val_root_mean_squared_error: 0.7075\n",
      "Epoch 146/190\n",
      "1/1 [==============================] - 0s 322ms/step - loss: 0.3609 - root_mean_squared_error: 0.6008 - val_loss: 0.5056 - val_root_mean_squared_error: 0.7110\n",
      "Epoch 147/190\n",
      "1/1 [==============================] - 0s 324ms/step - loss: 0.3692 - root_mean_squared_error: 0.6076 - val_loss: 0.4842 - val_root_mean_squared_error: 0.6959\n",
      "Epoch 148/190\n",
      "1/1 [==============================] - 0s 326ms/step - loss: 0.3520 - root_mean_squared_error: 0.5933 - val_loss: 0.4896 - val_root_mean_squared_error: 0.6997\n",
      "Epoch 149/190\n",
      "1/1 [==============================] - 0s 325ms/step - loss: 0.3711 - root_mean_squared_error: 0.6091 - val_loss: 0.4872 - val_root_mean_squared_error: 0.6980\n",
      "Epoch 150/190\n",
      "1/1 [==============================] - 0s 363ms/step - loss: 0.3505 - root_mean_squared_error: 0.5921 - val_loss: 0.5025 - val_root_mean_squared_error: 0.7088\n",
      "Epoch 151/190\n",
      "1/1 [==============================] - 0s 393ms/step - loss: 0.3489 - root_mean_squared_error: 0.5907 - val_loss: 0.5131 - val_root_mean_squared_error: 0.7163\n",
      "Epoch 152/190\n",
      "1/1 [==============================] - 0s 362ms/step - loss: 0.3571 - root_mean_squared_error: 0.5976 - val_loss: 0.4721 - val_root_mean_squared_error: 0.6871\n",
      "Epoch 153/190\n",
      "1/1 [==============================] - 0s 375ms/step - loss: 0.3354 - root_mean_squared_error: 0.5791 - val_loss: 0.4702 - val_root_mean_squared_error: 0.6857\n",
      "Epoch 154/190\n",
      "1/1 [==============================] - 0s 366ms/step - loss: 0.3554 - root_mean_squared_error: 0.5961 - val_loss: 0.4577 - val_root_mean_squared_error: 0.6766\n",
      "Epoch 155/190\n",
      "1/1 [==============================] - 0s 327ms/step - loss: 0.3423 - root_mean_squared_error: 0.5850 - val_loss: 0.4707 - val_root_mean_squared_error: 0.6861\n",
      "Epoch 156/190\n",
      "1/1 [==============================] - 0s 322ms/step - loss: 0.3383 - root_mean_squared_error: 0.5816 - val_loss: 0.4792 - val_root_mean_squared_error: 0.6922\n",
      "Epoch 157/190\n",
      "1/1 [==============================] - 0s 340ms/step - loss: 0.3427 - root_mean_squared_error: 0.5854 - val_loss: 0.4680 - val_root_mean_squared_error: 0.6841\n",
      "Epoch 158/190\n",
      "1/1 [==============================] - 0s 325ms/step - loss: 0.3288 - root_mean_squared_error: 0.5734 - val_loss: 0.4693 - val_root_mean_squared_error: 0.6850\n",
      "Epoch 159/190\n",
      "1/1 [==============================] - 0s 324ms/step - loss: 0.3349 - root_mean_squared_error: 0.5787 - val_loss: 0.4729 - val_root_mean_squared_error: 0.6877\n",
      "Epoch 160/190\n",
      "1/1 [==============================] - 0s 325ms/step - loss: 0.3324 - root_mean_squared_error: 0.5765 - val_loss: 0.4707 - val_root_mean_squared_error: 0.6861\n",
      "Epoch 161/190\n",
      "1/1 [==============================] - 0s 323ms/step - loss: 0.3243 - root_mean_squared_error: 0.5694 - val_loss: 0.4982 - val_root_mean_squared_error: 0.7059\n",
      "Epoch 162/190\n",
      "1/1 [==============================] - 0s 323ms/step - loss: 0.3525 - root_mean_squared_error: 0.5937 - val_loss: 0.4630 - val_root_mean_squared_error: 0.6804\n",
      "Epoch 163/190\n",
      "1/1 [==============================] - 0s 332ms/step - loss: 0.3322 - root_mean_squared_error: 0.5764 - val_loss: 0.4520 - val_root_mean_squared_error: 0.6723\n",
      "Epoch 164/190\n",
      "1/1 [==============================] - 0s 326ms/step - loss: 0.3302 - root_mean_squared_error: 0.5746 - val_loss: 0.4643 - val_root_mean_squared_error: 0.6814\n",
      "Epoch 165/190\n",
      "1/1 [==============================] - 0s 332ms/step - loss: 0.3412 - root_mean_squared_error: 0.5841 - val_loss: 0.4551 - val_root_mean_squared_error: 0.6746\n",
      "Epoch 166/190\n",
      "1/1 [==============================] - 0s 342ms/step - loss: 0.3153 - root_mean_squared_error: 0.5615 - val_loss: 0.4813 - val_root_mean_squared_error: 0.6938\n",
      "Epoch 167/190\n",
      "1/1 [==============================] - 0s 398ms/step - loss: 0.3327 - root_mean_squared_error: 0.5768 - val_loss: 0.4788 - val_root_mean_squared_error: 0.6919\n",
      "Epoch 168/190\n",
      "1/1 [==============================] - 0s 341ms/step - loss: 0.3264 - root_mean_squared_error: 0.5714 - val_loss: 0.4590 - val_root_mean_squared_error: 0.6775\n",
      "Epoch 169/190\n",
      "1/1 [==============================] - 0s 327ms/step - loss: 0.3131 - root_mean_squared_error: 0.5596 - val_loss: 0.4560 - val_root_mean_squared_error: 0.6753\n",
      "Epoch 170/190\n",
      "1/1 [==============================] - 0s 329ms/step - loss: 0.3254 - root_mean_squared_error: 0.5704 - val_loss: 0.4517 - val_root_mean_squared_error: 0.6721\n",
      "Epoch 171/190\n",
      "1/1 [==============================] - 0s 326ms/step - loss: 0.3107 - root_mean_squared_error: 0.5574 - val_loss: 0.4726 - val_root_mean_squared_error: 0.6874\n",
      "Epoch 172/190\n",
      "1/1 [==============================] - 0s 321ms/step - loss: 0.3139 - root_mean_squared_error: 0.5602 - val_loss: 0.4812 - val_root_mean_squared_error: 0.6937\n",
      "Epoch 173/190\n",
      "1/1 [==============================] - 0s 327ms/step - loss: 0.3084 - root_mean_squared_error: 0.5553 - val_loss: 0.4756 - val_root_mean_squared_error: 0.6896\n",
      "Epoch 174/190\n",
      "1/1 [==============================] - 0s 326ms/step - loss: 0.3036 - root_mean_squared_error: 0.5510 - val_loss: 0.4808 - val_root_mean_squared_error: 0.6934\n",
      "Epoch 175/190\n",
      "1/1 [==============================] - 0s 326ms/step - loss: 0.3141 - root_mean_squared_error: 0.5605 - val_loss: 0.4789 - val_root_mean_squared_error: 0.6920\n",
      "Epoch 176/190\n",
      "1/1 [==============================] - 0s 324ms/step - loss: 0.3072 - root_mean_squared_error: 0.5543 - val_loss: 0.4770 - val_root_mean_squared_error: 0.6906\n",
      "Epoch 177/190\n",
      "1/1 [==============================] - 0s 331ms/step - loss: 0.3001 - root_mean_squared_error: 0.5478 - val_loss: 0.4728 - val_root_mean_squared_error: 0.6876\n",
      "Epoch 178/190\n",
      "1/1 [==============================] - 0s 327ms/step - loss: 0.3027 - root_mean_squared_error: 0.5502 - val_loss: 0.4505 - val_root_mean_squared_error: 0.6712\n",
      "Epoch 179/190\n",
      "1/1 [==============================] - 0s 322ms/step - loss: 0.2964 - root_mean_squared_error: 0.5444 - val_loss: 0.4362 - val_root_mean_squared_error: 0.6605\n",
      "Epoch 180/190\n",
      "1/1 [==============================] - 0s 324ms/step - loss: 0.2988 - root_mean_squared_error: 0.5466 - val_loss: 0.4365 - val_root_mean_squared_error: 0.6607\n",
      "Epoch 181/190\n",
      "1/1 [==============================] - 0s 333ms/step - loss: 0.3005 - root_mean_squared_error: 0.5482 - val_loss: 0.4431 - val_root_mean_squared_error: 0.6657\n",
      "Epoch 182/190\n",
      "1/1 [==============================] - 0s 324ms/step - loss: 0.2954 - root_mean_squared_error: 0.5435 - val_loss: 0.4570 - val_root_mean_squared_error: 0.6760\n",
      "Epoch 183/190\n",
      "1/1 [==============================] - 0s 321ms/step - loss: 0.2972 - root_mean_squared_error: 0.5452 - val_loss: 0.4614 - val_root_mean_squared_error: 0.6792\n",
      "Epoch 184/190\n",
      "1/1 [==============================] - 0s 325ms/step - loss: 0.2956 - root_mean_squared_error: 0.5437 - val_loss: 0.4466 - val_root_mean_squared_error: 0.6683\n",
      "Epoch 185/190\n",
      "1/1 [==============================] - 0s 324ms/step - loss: 0.2870 - root_mean_squared_error: 0.5357 - val_loss: 0.4391 - val_root_mean_squared_error: 0.6626\n",
      "Epoch 186/190\n",
      "1/1 [==============================] - 0s 322ms/step - loss: 0.2880 - root_mean_squared_error: 0.5367 - val_loss: 0.4418 - val_root_mean_squared_error: 0.6647\n",
      "Epoch 187/190\n",
      "1/1 [==============================] - 0s 362ms/step - loss: 0.2852 - root_mean_squared_error: 0.5341 - val_loss: 0.4528 - val_root_mean_squared_error: 0.6729\n",
      "Epoch 188/190\n",
      "1/1 [==============================] - 0s 327ms/step - loss: 0.2856 - root_mean_squared_error: 0.5344 - val_loss: 0.4635 - val_root_mean_squared_error: 0.6808\n",
      "Epoch 189/190\n",
      "1/1 [==============================] - 0s 324ms/step - loss: 0.2840 - root_mean_squared_error: 0.5329 - val_loss: 0.4675 - val_root_mean_squared_error: 0.6837\n",
      "Epoch 190/190\n",
      "1/1 [==============================] - 0s 322ms/step - loss: 0.2836 - root_mean_squared_error: 0.5326 - val_loss: 0.4667 - val_root_mean_squared_error: 0.6832\n"
     ]
    }
   ],
   "source": [
    "model = create_model()\n",
    "model.compile(optimizer = tf.keras.optimizers.Adam(beta_1=0.95),\n",
    "              loss = 'mean_squared_error',\n",
    "              metrics = [tf.keras.metrics.RootMeanSquaredError()]\n",
    "             )\n",
    "\n",
    "history = model.fit(X_train, Y, batch_size = 2272, epochs = 190, validation_split = 0.2)"
   ]
  },
  {
   "cell_type": "code",
   "execution_count": 19,
   "id": "5ff61f0d",
   "metadata": {
    "execution": {
     "iopub.execute_input": "2021-08-02T13:52:32.229194Z",
     "iopub.status.busy": "2021-08-02T13:52:32.228378Z",
     "iopub.status.idle": "2021-08-02T13:52:32.233361Z",
     "shell.execute_reply": "2021-08-02T13:52:32.232663Z",
     "shell.execute_reply.started": "2021-08-02T12:54:34.369512Z"
    },
    "papermill": {
     "duration": 0.913704,
     "end_time": "2021-08-02T13:52:32.233506",
     "exception": false,
     "start_time": "2021-08-02T13:52:31.319802",
     "status": "completed"
    },
    "tags": []
   },
   "outputs": [
    {
     "name": "stdout",
     "output_type": "stream",
     "text": [
      "Model: \"sequential\"\n",
      "_________________________________________________________________\n",
      "Layer (type)                 Output Shape              Param #   \n",
      "=================================================================\n",
      "embedding (Embedding)        (None, 200, 300)          7870800   \n",
      "_________________________________________________________________\n",
      "lstm (LSTM)                  (None, 75)                112800    \n",
      "_________________________________________________________________\n",
      "dense (Dense)                (None, 1)                 76        \n",
      "=================================================================\n",
      "Total params: 7,983,676\n",
      "Trainable params: 112,876\n",
      "Non-trainable params: 7,870,800\n",
      "_________________________________________________________________\n"
     ]
    }
   ],
   "source": [
    "model.summary()"
   ]
  },
  {
   "cell_type": "code",
   "execution_count": 20,
   "id": "c17538a3",
   "metadata": {
    "execution": {
     "iopub.execute_input": "2021-08-02T13:52:34.317318Z",
     "iopub.status.busy": "2021-08-02T13:52:34.316665Z",
     "iopub.status.idle": "2021-08-02T13:52:34.500885Z",
     "shell.execute_reply": "2021-08-02T13:52:34.501300Z",
     "shell.execute_reply.started": "2021-08-02T12:54:34.386169Z"
    },
    "papermill": {
     "duration": 1.337635,
     "end_time": "2021-08-02T13:52:34.501441",
     "exception": false,
     "start_time": "2021-08-02T13:52:33.163806",
     "status": "completed"
    },
    "tags": []
   },
   "outputs": [
    {
     "data": {
      "image/png": "[encoded data removed]",
      "text/plain": [
       "<Figure size 432x288 with 1 Axes>"
      ]
     },
     "metadata": {
      "needs_background": "light"
     },
     "output_type": "display_data"
    }
   ],
   "source": [
    "import matplotlib.pyplot as plt\n",
    "\n",
    "plt.plot(history.history['loss'])\n",
    "plt.plot(history.history['val_loss'])\n",
    "plt.title('model loss')\n",
    "plt.ylabel('loss')\n",
    "plt.xlabel('epoch')\n",
    "plt.legend(['train', 'test'], loc = 'upper right')\n",
    "plt.show()"
   ]
  },
  {
   "cell_type": "code",
   "execution_count": 21,
   "id": "7e635f2d",
   "metadata": {
    "execution": {
     "iopub.execute_input": "2021-08-02T13:52:36.277811Z",
     "iopub.status.busy": "2021-08-02T13:52:36.277242Z",
     "iopub.status.idle": "2021-08-02T13:52:36.289424Z",
     "shell.execute_reply": "2021-08-02T13:52:36.288980Z",
     "shell.execute_reply.started": "2021-08-02T13:25:19.033096Z"
    },
    "papermill": {
     "duration": 0.903696,
     "end_time": "2021-08-02T13:52:36.289538",
     "exception": false,
     "start_time": "2021-08-02T13:52:35.385842",
     "status": "completed"
    },
    "tags": []
   },
   "outputs": [],
   "source": [
    "test=pd.read_csv(\"../input/commonlitreadabilityprize/test.csv\")"
   ]
  },
  {
   "cell_type": "code",
   "execution_count": 22,
   "id": "604f9e2e",
   "metadata": {
    "execution": {
     "iopub.execute_input": "2021-08-02T13:52:38.074165Z",
     "iopub.status.busy": "2021-08-02T13:52:38.073383Z",
     "iopub.status.idle": "2021-08-02T13:52:38.076257Z",
     "shell.execute_reply": "2021-08-02T13:52:38.076680Z",
     "shell.execute_reply.started": "2021-08-02T13:25:19.074213Z"
    },
    "papermill": {
     "duration": 0.897506,
     "end_time": "2021-08-02T13:52:38.076815",
     "exception": false,
     "start_time": "2021-08-02T13:52:37.179309",
     "status": "completed"
    },
    "tags": []
   },
   "outputs": [
    {
     "data": {
      "text/plain": [
       "(7, 4)"
      ]
     },
     "execution_count": 22,
     "metadata": {},
     "output_type": "execute_result"
    }
   ],
   "source": [
    "test.shape"
   ]
  },
  {
   "cell_type": "code",
   "execution_count": 23,
   "id": "d2beea17",
   "metadata": {
    "execution": {
     "iopub.execute_input": "2021-08-02T13:52:39.874999Z",
     "iopub.status.busy": "2021-08-02T13:52:39.873989Z",
     "iopub.status.idle": "2021-08-02T13:52:39.876413Z",
     "shell.execute_reply": "2021-08-02T13:52:39.876888Z",
     "shell.execute_reply.started": "2021-08-02T13:25:19.137606Z"
    },
    "papermill": {
     "duration": 0.910635,
     "end_time": "2021-08-02T13:52:39.877036",
     "exception": false,
     "start_time": "2021-08-02T13:52:38.966401",
     "status": "completed"
    },
    "tags": []
   },
   "outputs": [],
   "source": [
    "X_test=test['excerpt']"
   ]
  },
  {
   "cell_type": "code",
   "execution_count": 24,
   "id": "bf5f0161",
   "metadata": {
    "execution": {
     "iopub.execute_input": "2021-08-02T13:52:41.603236Z",
     "iopub.status.busy": "2021-08-02T13:52:41.602505Z",
     "iopub.status.idle": "2021-08-02T13:52:41.606305Z",
     "shell.execute_reply": "2021-08-02T13:52:41.606945Z",
     "shell.execute_reply.started": "2021-08-02T13:25:19.191499Z"
    },
    "papermill": {
     "duration": 0.851499,
     "end_time": "2021-08-02T13:52:41.607124",
     "exception": false,
     "start_time": "2021-08-02T13:52:40.755625",
     "status": "completed"
    },
    "tags": []
   },
   "outputs": [
    {
     "name": "stdout",
     "output_type": "stream",
     "text": [
      "0\n"
     ]
    }
   ],
   "source": [
    "print(X_test.isnull().sum())"
   ]
  },
  {
   "cell_type": "code",
   "execution_count": 25,
   "id": "daed9aaa",
   "metadata": {
    "execution": {
     "iopub.execute_input": "2021-08-02T13:52:43.289247Z",
     "iopub.status.busy": "2021-08-02T13:52:43.288501Z",
     "iopub.status.idle": "2021-08-02T13:52:43.292089Z",
     "shell.execute_reply": "2021-08-02T13:52:43.291670Z",
     "shell.execute_reply.started": "2021-08-02T13:25:19.248543Z"
    },
    "papermill": {
     "duration": 0.831907,
     "end_time": "2021-08-02T13:52:43.292204",
     "exception": false,
     "start_time": "2021-08-02T13:52:42.460297",
     "status": "completed"
    },
    "tags": []
   },
   "outputs": [
    {
     "data": {
      "text/plain": [
       "0    My hope lay in Jack's promise that he would ke...\n",
       "1    Dotty continued to go to Mrs. Gray's every nig...\n",
       "2    It was a bright and cheerful scene that greete...\n",
       "3    Cell division is the process by which a parent...\n",
       "4    Debugging is the process of finding and resolv...\n",
       "Name: excerpt, dtype: object"
      ]
     },
     "execution_count": 25,
     "metadata": {},
     "output_type": "execute_result"
    }
   ],
   "source": [
    "X_test.head()"
   ]
  },
  {
   "cell_type": "code",
   "execution_count": 26,
   "id": "259f82b6",
   "metadata": {
    "execution": {
     "iopub.execute_input": "2021-08-02T13:52:45.720992Z",
     "iopub.status.busy": "2021-08-02T13:52:45.720089Z",
     "iopub.status.idle": "2021-08-02T13:52:45.722254Z",
     "shell.execute_reply": "2021-08-02T13:52:45.722746Z",
     "shell.execute_reply.started": "2021-08-02T13:25:19.284195Z"
    },
    "papermill": {
     "duration": 1.611163,
     "end_time": "2021-08-02T13:52:45.722888",
     "exception": false,
     "start_time": "2021-08-02T13:52:44.111725",
     "status": "completed"
    },
    "tags": []
   },
   "outputs": [],
   "source": [
    "X_test = X_test.apply(lambda x: text_cleaning(x))"
   ]
  },
  {
   "cell_type": "code",
   "execution_count": 27,
   "id": "fc0e280c",
   "metadata": {
    "execution": {
     "iopub.execute_input": "2021-08-02T13:52:47.396950Z",
     "iopub.status.busy": "2021-08-02T13:52:47.396047Z",
     "iopub.status.idle": "2021-08-02T13:52:47.398758Z",
     "shell.execute_reply": "2021-08-02T13:52:47.398293Z",
     "shell.execute_reply.started": "2021-08-02T13:25:19.325510Z"
    },
    "papermill": {
     "duration": 0.856136,
     "end_time": "2021-08-02T13:52:47.398892",
     "exception": false,
     "start_time": "2021-08-02T13:52:46.542756",
     "status": "completed"
    },
    "tags": []
   },
   "outputs": [],
   "source": [
    "X_test = token.texts_to_sequences(X_test)"
   ]
  },
  {
   "cell_type": "code",
   "execution_count": 28,
   "id": "333a6761",
   "metadata": {
    "execution": {
     "iopub.execute_input": "2021-08-02T13:52:49.197506Z",
     "iopub.status.busy": "2021-08-02T13:52:49.196043Z",
     "iopub.status.idle": "2021-08-02T13:52:49.198349Z",
     "shell.execute_reply": "2021-08-02T13:52:49.198793Z",
     "shell.execute_reply.started": "2021-08-02T13:25:19.367580Z"
    },
    "papermill": {
     "duration": 0.924285,
     "end_time": "2021-08-02T13:52:49.198941",
     "exception": false,
     "start_time": "2021-08-02T13:52:48.274656",
     "status": "completed"
    },
    "tags": []
   },
   "outputs": [],
   "source": [
    "X_test=tf.keras.preprocessing.sequence.pad_sequences(X_test, maxlen = 215, padding = 'post', truncating='post')"
   ]
  },
  {
   "cell_type": "code",
   "execution_count": 29,
   "id": "bf262061",
   "metadata": {
    "execution": {
     "iopub.execute_input": "2021-08-02T13:52:50.975414Z",
     "iopub.status.busy": "2021-08-02T13:52:50.974648Z",
     "iopub.status.idle": "2021-08-02T13:52:51.370532Z",
     "shell.execute_reply": "2021-08-02T13:52:51.369962Z",
     "shell.execute_reply.started": "2021-08-02T13:25:19.413018Z"
    },
    "papermill": {
     "duration": 1.278605,
     "end_time": "2021-08-02T13:52:51.370881",
     "exception": false,
     "start_time": "2021-08-02T13:52:50.092276",
     "status": "completed"
    },
    "tags": []
   },
   "outputs": [],
   "source": [
    "y_pred=model.predict(X_test)"
   ]
  },
  {
   "cell_type": "code",
   "execution_count": 30,
   "id": "97d43f0d",
   "metadata": {
    "execution": {
     "iopub.execute_input": "2021-08-02T13:52:53.137370Z",
     "iopub.status.busy": "2021-08-02T13:52:53.136794Z",
     "iopub.status.idle": "2021-08-02T13:52:53.143667Z",
     "shell.execute_reply": "2021-08-02T13:52:53.143096Z",
     "shell.execute_reply.started": "2021-08-02T13:25:19.469472Z"
    },
    "papermill": {
     "duration": 0.898545,
     "end_time": "2021-08-02T13:52:53.143807",
     "exception": false,
     "start_time": "2021-08-02T13:52:52.245262",
     "status": "completed"
    },
    "tags": []
   },
   "outputs": [
    {
     "data": {
      "text/plain": [
       "array([[-0.3156986 ],\n",
       "       [-0.06831311],\n",
       "       [-0.92505604],\n",
       "       [-2.4265842 ],\n",
       "       [-1.2728721 ],\n",
       "       [ 0.301638  ],\n",
       "       [ 0.38756555]], dtype=float32)"
      ]
     },
     "execution_count": 30,
     "metadata": {},
     "output_type": "execute_result"
    }
   ],
   "source": [
    "y_pred"
   ]
  },
  {
   "cell_type": "code",
   "execution_count": 31,
   "id": "2f45867b",
   "metadata": {
    "execution": {
     "iopub.execute_input": "2021-08-02T13:52:54.953639Z",
     "iopub.status.busy": "2021-08-02T13:52:54.952326Z",
     "iopub.status.idle": "2021-08-02T13:52:54.954712Z",
     "shell.execute_reply": "2021-08-02T13:52:54.955159Z",
     "shell.execute_reply.started": "2021-08-02T13:25:19.494012Z"
    },
    "papermill": {
     "duration": 0.884867,
     "end_time": "2021-08-02T13:52:54.955289",
     "exception": false,
     "start_time": "2021-08-02T13:52:54.070422",
     "status": "completed"
    },
    "tags": []
   },
   "outputs": [],
   "source": [
    "test=pd.DataFrame(test,columns=['id'])\n"
   ]
  },
  {
   "cell_type": "code",
   "execution_count": 32,
   "id": "a6748aa7",
   "metadata": {
    "execution": {
     "iopub.execute_input": "2021-08-02T13:52:57.024226Z",
     "iopub.status.busy": "2021-08-02T13:52:57.023198Z",
     "iopub.status.idle": "2021-08-02T13:52:57.026495Z",
     "shell.execute_reply": "2021-08-02T13:52:57.026005Z",
     "shell.execute_reply.started": "2021-08-02T13:25:19.536493Z"
    },
    "papermill": {
     "duration": 0.890064,
     "end_time": "2021-08-02T13:52:57.026629",
     "exception": false,
     "start_time": "2021-08-02T13:52:56.136565",
     "status": "completed"
    },
    "tags": []
   },
   "outputs": [],
   "source": [
    "test['target']=0"
   ]
  },
  {
   "cell_type": "code",
   "execution_count": 33,
   "id": "1edd804b",
   "metadata": {
    "execution": {
     "iopub.execute_input": "2021-08-02T13:52:58.792381Z",
     "iopub.status.busy": "2021-08-02T13:52:58.791416Z",
     "iopub.status.idle": "2021-08-02T13:52:58.795873Z",
     "shell.execute_reply": "2021-08-02T13:52:58.796251Z",
     "shell.execute_reply.started": "2021-08-02T13:25:19.621141Z"
    },
    "papermill": {
     "duration": 0.8927,
     "end_time": "2021-08-02T13:52:58.796391",
     "exception": false,
     "start_time": "2021-08-02T13:52:57.903691",
     "status": "completed"
    },
    "tags": []
   },
   "outputs": [
    {
     "data": {
      "text/html": [
       "<div>\n",
       "<style scoped>\n",
       "    .dataframe tbody tr th:only-of-type {\n",
       "        vertical-align: middle;\n",
       "    }\n",
       "\n",
       "    .dataframe tbody tr th {\n",
       "        vertical-align: top;\n",
       "    }\n",
       "\n",
       "    .dataframe thead th {\n",
       "        text-align: right;\n",
       "    }\n",
       "</style>\n",
       "<table border=\"1\" class=\"dataframe\">\n",
       "  <thead>\n",
       "    <tr style=\"text-align: right;\">\n",
       "      <th></th>\n",
       "      <th>id</th>\n",
       "      <th>target</th>\n",
       "    </tr>\n",
       "  </thead>\n",
       "  <tbody>\n",
       "    <tr>\n",
       "      <th>0</th>\n",
       "      <td>c0f722661</td>\n",
       "      <td>0</td>\n",
       "    </tr>\n",
       "    <tr>\n",
       "      <th>1</th>\n",
       "      <td>f0953f0a5</td>\n",
       "      <td>0</td>\n",
       "    </tr>\n",
       "    <tr>\n",
       "      <th>2</th>\n",
       "      <td>0df072751</td>\n",
       "      <td>0</td>\n",
       "    </tr>\n",
       "    <tr>\n",
       "      <th>3</th>\n",
       "      <td>04caf4e0c</td>\n",
       "      <td>0</td>\n",
       "    </tr>\n",
       "    <tr>\n",
       "      <th>4</th>\n",
       "      <td>0e63f8bea</td>\n",
       "      <td>0</td>\n",
       "    </tr>\n",
       "  </tbody>\n",
       "</table>\n",
       "</div>"
      ],
      "text/plain": [
       "          id  target\n",
       "0  c0f722661       0\n",
       "1  f0953f0a5       0\n",
       "2  0df072751       0\n",
       "3  04caf4e0c       0\n",
       "4  0e63f8bea       0"
      ]
     },
     "execution_count": 33,
     "metadata": {},
     "output_type": "execute_result"
    }
   ],
   "source": [
    "test.head()"
   ]
  },
  {
   "cell_type": "code",
   "execution_count": 34,
   "id": "cfae7a7f",
   "metadata": {
    "execution": {
     "iopub.execute_input": "2021-08-02T13:53:00.575376Z",
     "iopub.status.busy": "2021-08-02T13:53:00.574548Z",
     "iopub.status.idle": "2021-08-02T13:53:00.577864Z",
     "shell.execute_reply": "2021-08-02T13:53:00.578429Z",
     "shell.execute_reply.started": "2021-08-02T13:25:19.674019Z"
    },
    "papermill": {
     "duration": 0.889083,
     "end_time": "2021-08-02T13:53:00.578574",
     "exception": false,
     "start_time": "2021-08-02T13:52:59.689491",
     "status": "completed"
    },
    "tags": []
   },
   "outputs": [
    {
     "data": {
      "text/plain": [
       "(7, 2)"
      ]
     },
     "execution_count": 34,
     "metadata": {},
     "output_type": "execute_result"
    }
   ],
   "source": [
    "test.shape"
   ]
  },
  {
   "cell_type": "code",
   "execution_count": 35,
   "id": "f336914a",
   "metadata": {
    "execution": {
     "iopub.execute_input": "2021-08-02T13:53:02.346037Z",
     "iopub.status.busy": "2021-08-02T13:53:02.345110Z",
     "iopub.status.idle": "2021-08-02T13:53:02.348119Z",
     "shell.execute_reply": "2021-08-02T13:53:02.347717Z",
     "shell.execute_reply.started": "2021-08-02T13:25:19.809732Z"
    },
    "papermill": {
     "duration": 0.889243,
     "end_time": "2021-08-02T13:53:02.348230",
     "exception": false,
     "start_time": "2021-08-02T13:53:01.458987",
     "status": "completed"
    },
    "tags": []
   },
   "outputs": [],
   "source": [
    "for i in range(test.shape[0]):\n",
    "    test.iloc[i,1]=y_pred[i]"
   ]
  },
  {
   "cell_type": "code",
   "execution_count": 36,
   "id": "ffc9f07d",
   "metadata": {
    "execution": {
     "iopub.execute_input": "2021-08-02T13:53:04.166505Z",
     "iopub.status.busy": "2021-08-02T13:53:04.165403Z",
     "iopub.status.idle": "2021-08-02T13:53:04.169748Z",
     "shell.execute_reply": "2021-08-02T13:53:04.170299Z",
     "shell.execute_reply.started": "2021-08-02T13:25:20.037219Z"
    },
    "papermill": {
     "duration": 0.937427,
     "end_time": "2021-08-02T13:53:04.170473",
     "exception": false,
     "start_time": "2021-08-02T13:53:03.233046",
     "status": "completed"
    },
    "tags": []
   },
   "outputs": [
    {
     "data": {
      "text/html": [
       "<div>\n",
       "<style scoped>\n",
       "    .dataframe tbody tr th:only-of-type {\n",
       "        vertical-align: middle;\n",
       "    }\n",
       "\n",
       "    .dataframe tbody tr th {\n",
       "        vertical-align: top;\n",
       "    }\n",
       "\n",
       "    .dataframe thead th {\n",
       "        text-align: right;\n",
       "    }\n",
       "</style>\n",
       "<table border=\"1\" class=\"dataframe\">\n",
       "  <thead>\n",
       "    <tr style=\"text-align: right;\">\n",
       "      <th></th>\n",
       "      <th>id</th>\n",
       "      <th>target</th>\n",
       "    </tr>\n",
       "  </thead>\n",
       "  <tbody>\n",
       "    <tr>\n",
       "      <th>0</th>\n",
       "      <td>c0f722661</td>\n",
       "      <td>-0.315699</td>\n",
       "    </tr>\n",
       "    <tr>\n",
       "      <th>1</th>\n",
       "      <td>f0953f0a5</td>\n",
       "      <td>-0.068313</td>\n",
       "    </tr>\n",
       "    <tr>\n",
       "      <th>2</th>\n",
       "      <td>0df072751</td>\n",
       "      <td>-0.925056</td>\n",
       "    </tr>\n",
       "    <tr>\n",
       "      <th>3</th>\n",
       "      <td>04caf4e0c</td>\n",
       "      <td>-2.426584</td>\n",
       "    </tr>\n",
       "    <tr>\n",
       "      <th>4</th>\n",
       "      <td>0e63f8bea</td>\n",
       "      <td>-1.272872</td>\n",
       "    </tr>\n",
       "  </tbody>\n",
       "</table>\n",
       "</div>"
      ],
      "text/plain": [
       "          id    target\n",
       "0  c0f722661 -0.315699\n",
       "1  f0953f0a5 -0.068313\n",
       "2  0df072751 -0.925056\n",
       "3  04caf4e0c -2.426584\n",
       "4  0e63f8bea -1.272872"
      ]
     },
     "execution_count": 36,
     "metadata": {},
     "output_type": "execute_result"
    }
   ],
   "source": [
    "test.head()"
   ]
  },
  {
   "cell_type": "code",
   "execution_count": 37,
   "id": "66fdca7c",
   "metadata": {
    "execution": {
     "iopub.execute_input": "2021-08-02T13:53:05.944635Z",
     "iopub.status.busy": "2021-08-02T13:53:05.943654Z",
     "iopub.status.idle": "2021-08-02T13:53:05.953573Z",
     "shell.execute_reply": "2021-08-02T13:53:05.953056Z",
     "shell.execute_reply.started": "2021-08-02T13:28:37.472001Z"
    },
    "papermill": {
     "duration": 0.90043,
     "end_time": "2021-08-02T13:53:05.953746",
     "exception": false,
     "start_time": "2021-08-02T13:53:05.053316",
     "status": "completed"
    },
    "tags": []
   },
   "outputs": [],
   "source": [
    "test.to_csv(r\"./submission.csv\",index=False)"
   ]
  }
 ],
 "metadata": {
  "kernelspec": {
   "display_name": "Python 3",
   "language": "python",
   "name": "python3"
  },
  "language_info": {
   "codemirror_mode": {
    "name": "ipython",
    "version": 3
   },
   "file_extension": ".py",
   "mimetype": "text/x-python",
   "name": "python",
   "nbconvert_exporter": "python",
   "pygments_lexer": "ipython3",
   "version": "3.8.8"
  },
  "papermill": {
   "default_parameters": {},
   "duration": 398.225303,
   "end_time": "2021-08-02T13:53:10.093771",
   "environment_variables": {},
   "exception": null,
   "input_path": "__notebook__.ipynb",
   "output_path": "__notebook__.ipynb",
   "parameters": {},
   "start_time": "2021-08-02T13:46:31.868468",
   "version": "2.3.3"
  }
 },
 "nbformat": 4,
 "nbformat_minor": 5
}
